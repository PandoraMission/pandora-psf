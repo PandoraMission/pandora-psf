{
 "cells": [
  {
   "cell_type": "markdown",
   "id": "e23e4d42-a75d-4811-9d30-0a55be248543",
   "metadata": {},
   "source": [
    "# Example of packaging fits files"
   ]
  },
  {
   "cell_type": "code",
   "execution_count": 3,
   "id": "6bb8cf0c-d642-49e9-8caa-b04760452f64",
   "metadata": {},
   "outputs": [],
   "source": [
    "from copy import copy\n",
    "from glob import glob\n",
    "\n",
    "import astropy.units as u\n",
    "import matplotlib.pyplot as plt\n",
    "import numpy as np\n",
    "from astropy.coordinates import SkyCoord\n",
    "from astropy.io import fits\n",
    "from astropy.table import Table\n",
    "from astropy.time import Time\n",
    "from astropy.time import Time, TimeDelta\n",
    "\n",
    "t0 = Time(\"2000-01-01T12:00:00.000\", format=\"isot\")\n",
    "tpd = Time(\"2023-07-25T12:00:00.000\", format=\"isot\")\n",
    "\n",
    "\n",
    "def fits_from_table(table, header=None):\n",
    "    \"\"\"Helper function to convert astropy.Table to astropy.fits.TableHDU\"\"\"\n",
    "    cols = [\n",
    "        fits.Column(col.name, col.dtype, unit=col.unit.name if col.unit is not None else None, array=col.data)\n",
    "        for col in table.itercols()\n",
    "    ]\n",
    "    return fits.TableHDU.from_columns(cols, nrows=len(table), header=header)"
   ]
  },
  {
   "cell_type": "code",
   "execution_count": 23,
   "id": "23af80ce-6aec-4f83-8412-66065e4164ac",
   "metadata": {},
   "outputs": [],
   "source": [
    "# This is an astropy object that lets us get ra/dec etc\n",
    "c = SkyCoord.from_name(\"GJ 1132\")\n",
    "\n",
    "# This is just random data as a place holder\n",
    "dat = np.random.normal(0, 1, size=(3, 256, 256)).astype(np.int32)\n",
    "\n",
    "# Fake ROI star parameters data\n",
    "tab = Table(\n",
    "    np.random.normal(0, 1, size=(8, 2)),\n",
    "    names=[\"Column\", \"Row\"],\n",
    "    units=[u.pix, u.pix],\n",
    ")\n"
   ]
  },
  {
   "cell_type": "markdown",
   "id": "d3d9d972-33d2-48d5-81e8-c8862f400add",
   "metadata": {},
   "source": [
    "The primary extension of the fits file frequently doesn't have data, and is just a header. The primary header needs cards, we'll put in things that are about the observation as a whole. Some of these are standard headers, e.g. the top 5 are standard. Ideally, we would add comments to every one the cards. There are character limits on the lengths of keywords and card comments"
   ]
  },
  {
   "cell_type": "code",
   "execution_count": 31,
   "id": "342f4eed-2812-4502-a1c6-5057a963a0b4",
   "metadata": {},
   "outputs": [],
   "source": [
    "cards = [\n",
    "    (\"SIMPLE\", True, \"conforms to FITS standard\"),\n",
    "    (\"BITPIX\", 16, \"array data type\"),\n",
    "    (\"NAXIS\", dat.ndim, \"number of dimensions\"),\n",
    "    (\"EXTEND\", True, \"file contains extensions\"),\n",
    "    (\"EXTNAME\", \"PRIMARY\", \"name of extension\"),\n",
    "    (\"NEXTEND\", 3, \"number of standard extensions\"),\n",
    "    (\"SIMDATA\", False, \"simulated data\"),\n",
    "    (\"SCIDATA\", True, \"science data\"),\n",
    "    (\"TELESCOP\", \"NASA Pandora\", \"telescope\"),\n",
    "    (\"INSTRMNT\", \"VISDA\", \"instrument\"),\n",
    "    (\"CREATOR\", \"Pandora MOC\", \"creator of this product\"),\n",
    "    (\"CRSOFTV\", \"v0.1.0\", \"creator software version\"),\n",
    "    (\"TARG_RA\", c.ra.value, \"target right ascension [deg]\"),\n",
    "    (\"TARG_DEC\", c.dec.value, \"target declination [deg]\"),\n",
    "    (\"FRMSREQD\", 40, \"number of frames requested\"),\n",
    "    (\"FRMSCLCT\", 40, \"number of frames collected\"),\n",
    "    (\"NUMCOAD\", 1, \"number of frames coadded\"),\n",
    "    (\"EXPTIME\", 0.2, \"exposure time [s]\"),\n",
    "    (\"EXPDELAY\", 32, \"exposure time [ms]\"),\n",
    "    (\"RICEX\", 5, \"bit noise parameter for Rice compression\"),\n",
    "    (\"RICEY\", 10, \"bit noise parameter for Rice compression\"),\n",
    "    (\"CORSTIME\", 744941360, \"seconds since the TAI Epoch\"),\n",
    "    (\"FINETIME\", 792000000, \"nanoseconds added to CORSTIME seconds\"),\n",
    "]\n",
    "hdu0 = fits.PrimaryHDU(header=fits.Header(cards))"
   ]
  },
  {
   "cell_type": "code",
   "execution_count": 32,
   "id": "cca393c0-e240-418d-819f-f18ce882ff58",
   "metadata": {},
   "outputs": [
    {
     "data": {
      "text/plain": [
       "<astropy.io.fits.hdu.image.PrimaryHDU at 0x10ee6cdf0>"
      ]
     },
     "execution_count": 32,
     "metadata": {},
     "output_type": "execute_result"
    }
   ],
   "source": [
    "hdu0"
   ]
  },
  {
   "cell_type": "markdown",
   "id": "7f920142-0be7-45a2-9b4e-058cb260f77b",
   "metadata": {},
   "source": [
    "Now we have the primary header, we can make the first data extension"
   ]
  },
  {
   "cell_type": "code",
   "execution_count": 33,
   "id": "788526e9-8da2-4c7c-97b6-bac88e6ad236",
   "metadata": {},
   "outputs": [],
   "source": [
    "# Make the image extension\n",
    "hdu1 = fits.ImageHDU(data=dat, name=\"SCIENCE\")\n",
    "\n",
    "# These cards tell us about the format\n",
    "cards = [\n",
    "    (\"TTYPE1\", \"COUNTS\", \"data title: raw pixel counts\"),\n",
    "    (\"TFORM1\", \"J       \", \"data format: images of unsigned 32-bit integers \"),\n",
    "    (\"TUNIT1\", \"count   \", \"data units: count\"),\n",
    "]\n",
    "# Append the cards to the first extension header\n",
    "_ = [hdu1.header.append(c) for c in cards]"
   ]
  },
  {
   "cell_type": "code",
   "execution_count": 34,
   "id": "73b0408e-1214-446f-bc14-ae1b0f2bf915",
   "metadata": {},
   "outputs": [
    {
     "data": {
      "text/plain": [
       "<astropy.io.fits.hdu.image.ImageHDU at 0x10ee6c280>"
      ]
     },
     "execution_count": 34,
     "metadata": {},
     "output_type": "execute_result"
    }
   ],
   "source": [
    "hdu1"
   ]
  },
  {
   "cell_type": "markdown",
   "id": "a9e75bd0-211f-40ef-9451-2d4c02364d93",
   "metadata": {},
   "source": [
    "We can make a second exension which is the table of star paramters for the ROIs"
   ]
  },
  {
   "cell_type": "code",
   "execution_count": 35,
   "id": "e411f827-6ab0-49d3-834f-9bf980f9c74f",
   "metadata": {},
   "outputs": [],
   "source": [
    "hdu2 = fits_from_table(tab)\n",
    "hdu2.header.append((\"EXTNAME\", \"ROITABLE\", \"name of extension\"))\n",
    "cards = [\n",
    "    (\"NROI\", 9, \"number of regions of interest\"),\n",
    "    (\"ROISTRTX\", 512, \"region of interest origin in column\"),\n",
    "    (\"ROISTRTY\", 512, \"region of interest origin in row\"),\n",
    "    (\"ROISIZEX\", 1024, \"region of interest size in column\"),\n",
    "    (\"ROISIZEY\", 1024, \"region of interest size in row\"),\n",
    "]\n",
    "\n",
    "_ = [hdu2.header.append(c) for c in cards]"
   ]
  },
  {
   "cell_type": "code",
   "execution_count": 36,
   "id": "06a89a6e-9c27-420d-8c49-01323553dbbe",
   "metadata": {},
   "outputs": [
    {
     "data": {
      "text/plain": [
       "<astropy.io.fits.hdu.table.TableHDU at 0x10ed58850>"
      ]
     },
     "execution_count": 36,
     "metadata": {},
     "output_type": "execute_result"
    }
   ],
   "source": [
    "hdu2"
   ]
  },
  {
   "cell_type": "markdown",
   "id": "49f22dbe-4521-47fe-8a7e-c0e1544ec1e4",
   "metadata": {},
   "source": [
    "Now we have a primary extension, the first extension is the set of images, and the second extension is a table. We can now make them into an `HDUList` object and write it to a file"
   ]
  },
  {
   "cell_type": "code",
   "execution_count": 37,
   "id": "162e5804-3731-497b-83ae-cff0d925128a",
   "metadata": {},
   "outputs": [],
   "source": [
    "hdulist = fits.HDUList([hdu0, hdu1, hdu2])"
   ]
  },
  {
   "cell_type": "code",
   "execution_count": 38,
   "id": "1876b13f-aa1f-489a-820c-588ba9b60008",
   "metadata": {},
   "outputs": [
    {
     "name": "stdout",
     "output_type": "stream",
     "text": [
      "Filename: (No file associated with this HDUList)\n",
      "No.    Name      Ver    Type      Cards   Dimensions   Format\n",
      "  0  PRIMARY       1 PrimaryHDU      23   ()      \n",
      "  1  SCIENCE       1 ImageHDU        12   (256, 256, 3)   int32   \n",
      "  2  ROITABLE      1 TableHDU        22   8R x 2C   ['D25.17', 'D25.17']   \n"
     ]
    }
   ],
   "source": [
    "hdulist.info()"
   ]
  },
  {
   "cell_type": "code",
   "execution_count": 39,
   "id": "651bba4d-1127-4ef2-a746-76a5989069fc",
   "metadata": {},
   "outputs": [],
   "source": [
    "hdulist.writeto('test.fits', overwrite=True)"
   ]
  },
  {
   "cell_type": "markdown",
   "id": "32b28994-5bc1-447f-90e5-5785ae9273eb",
   "metadata": {},
   "source": [
    "Note there are other extension types you might want to use (e.g. compressed image formats) and you can read about them here on the astropy documentation here https://docs.astropy.org/en/stable/io/fits/\n",
    "\n",
    "For image extensions, I believe there is a shape where 3D images are compressed best, and I usually put them in as shape (ntime, npixel1, npixel2), but it might be worth playing around with."
   ]
  }
 ],
 "metadata": {
  "kernelspec": {
   "display_name": "Python 3 (ipykernel)",
   "language": "python",
   "name": "python3"
  },
  "language_info": {
   "codemirror_mode": {
    "name": "ipython",
    "version": 3
   },
   "file_extension": ".py",
   "mimetype": "text/x-python",
   "name": "python",
   "nbconvert_exporter": "python",
   "pygments_lexer": "ipython3",
   "version": "3.9.13"
  }
 },
 "nbformat": 4,
 "nbformat_minor": 5
}
