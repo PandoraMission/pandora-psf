{
 "cells": [
  {
   "cell_type": "markdown",
   "id": "845df7f6-4b56-42f4-bf01-440d76da053d",
   "metadata": {},
   "source": [
    "# Uploading new PSF models\n",
    "\n",
    "As we get new models for the PSF, this package requires updating. This notebook shows how to update the PSF files for the package. "
   ]
  },
  {
   "cell_type": "markdown",
   "id": "e0ad2ea2-9c51-422c-89ec-d93122cb3eab",
   "metadata": {},
   "source": [
    "## Updating with new optical models from LLNL\n",
    "\n",
    "If you have new optical PSF models for the NIR and Visible channel these are usually matlab grids of PSFs as a function of position and wavelength. To update these follow these steps:\n",
    "\n",
    "### Build new fits files\n",
    "\n",
    "The matlab files need to be converted into fits files. Use the function\n",
    "\n",
    "```python\n",
    "hdulist = pandorapsf.utils.make_PSF_fits_files(...)\n",
    "```\n",
    "\n",
    "Which will return the fits file format for `pandorapsf`. Look at the docstring for that function to find out how to process the file.\n",
    "\n",
    "\n",
    "### Update the expected file dates in the configuration file for `pandorapsf` \n",
    "\n",
    "The config file in `pandorapsf`'s `__init__` file has a set of dates, e.g. \n",
    "```\n",
    "        \"vis_psf_creation_date\": \"2025-03-28T10:30:27.329441\",\n",
    "        \"nir_psf_creation_date\": \"2025-03-28T10:06:08.770326\",\n",
    "```\n",
    "\n",
    "You need to update these to the new dates of your file. Once updated, reload the package and run \"reset_config\" to update your config to the new default. \n",
    "\n",
    "### Upload the files to zenodo\n",
    "\n",
    "You need to go to the zenodo listing for the Pandora models, click new version, and then upload the new files. \n",
    "\n",
    "### Update the zenodo link in the configuration file for `pandorapsf` \n",
    "\n",
    "In the config file there is a link to Zenodo, e.g.\n",
    "```\n",
    "        \"vis_psf_download_location\": \"https://zenodo.org/records/15101982/files/pandora_vis_psf.fits?download=1\",\n",
    "        \"nir_psf_download_location\": \"https://zenodo.org/records/15101982/files/pandora_nir_psf.fits?download=1\",\n",
    "```\n",
    "Update these to reflect your new files\n",
    "\n",
    "### Build the low resolution fallback files\n",
    "\n",
    "We store a very small version of these files as a fallback within the package directory. This is so that a single PSF can be evaluated if the package is pip installed without ever downloading the full grid files. Run\n",
    "\n",
    "```python\n",
    "pp.utils.make_lowres_package_data()\n",
    "```\n",
    "\n",
    "To make this package date\n",
    "\n",
    "### Check the files\n",
    "\n",
    "Move the files you've created to the data directory for the package, and check that everything works as expected. If not, repeat the above steps.\n",
    "\n",
    "### Rerun the docs notebooks and push to github\n",
    "\n",
    "Go into the `docs` folder and rerun all the tutorials to update the figures. Add all the changes to git and push to GitHub.\n",
    "\n",
    "### Update the package\n",
    "\n",
    "In the pyproject.toml file, update the version number, and then poetry build and poetry release. "
   ]
  }
 ],
 "metadata": {
  "kernelspec": {
   "display_name": "Python 3 (ipykernel)",
   "language": "python",
   "name": "python3"
  },
  "language_info": {
   "codemirror_mode": {
    "name": "ipython",
    "version": 3
   },
   "file_extension": ".py",
   "mimetype": "text/x-python",
   "name": "python",
   "nbconvert_exporter": "python",
   "pygments_lexer": "ipython3",
   "version": "3.9.13"
  },
  "widgets": {
   "application/vnd.jupyter.widget-state+json": {
    "state": {},
    "version_major": 2,
    "version_minor": 0
   }
  }
 },
 "nbformat": 4,
 "nbformat_minor": 5
}
